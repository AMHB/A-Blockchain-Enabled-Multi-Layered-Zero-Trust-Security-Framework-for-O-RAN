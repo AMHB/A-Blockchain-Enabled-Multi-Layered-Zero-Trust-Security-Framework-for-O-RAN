{
  "cells": [
    {
      "cell_type": "markdown",
      "metadata": {
        "id": "view-in-github",
        "colab_type": "text"
      },
      "source": [
        "<a href=\"https://colab.research.google.com/github/AMHB/Multi-Layered-Security-Enhancement-of-IIOT-in-Open-RAN/blob/main/Main_Implementation.ipynb\" target=\"_parent\"><img src=\"https://colab.research.google.com/assets/colab-badge.svg\" alt=\"Open In Colab\"/></a>"
      ]
    },
    {
      "cell_type": "markdown",
      "source": [
        "**Step 1: Set Up Your Python Environment**\n",
        "Ensure you have the following Python packages installed:\n",
        "\n",
        "numpy\n",
        "pandas\n",
        "scikit-learn\n",
        "matplotlib (optional, for plotting)\n",
        "seaborn (optional, for plotting)"
      ],
      "metadata": {
        "id": "E9EYLHVDjjGB"
      },
      "id": "E9EYLHVDjjGB"
    },
    {
      "cell_type": "code",
      "source": [
        "pip install numpy pandas scikit-learn matplotlib seaborn"
      ],
      "metadata": {
        "collapsed": true,
        "id": "GpSzzDUejnRh",
        "colab": {
          "base_uri": "https://localhost:8080/"
        },
        "outputId": "6b6a258a-b7b7-4390-df87-f6d02934be06"
      },
      "id": "GpSzzDUejnRh",
      "execution_count": 3,
      "outputs": [
        {
          "output_type": "stream",
          "name": "stdout",
          "text": [
            "Requirement already satisfied: numpy in /usr/local/lib/python3.10/dist-packages (1.26.4)\n",
            "Requirement already satisfied: pandas in /usr/local/lib/python3.10/dist-packages (2.2.2)\n",
            "Requirement already satisfied: scikit-learn in /usr/local/lib/python3.10/dist-packages (1.5.2)\n",
            "Requirement already satisfied: matplotlib in /usr/local/lib/python3.10/dist-packages (3.7.1)\n",
            "Requirement already satisfied: seaborn in /usr/local/lib/python3.10/dist-packages (0.13.2)\n",
            "Requirement already satisfied: python-dateutil>=2.8.2 in /usr/local/lib/python3.10/dist-packages (from pandas) (2.8.2)\n",
            "Requirement already satisfied: pytz>=2020.1 in /usr/local/lib/python3.10/dist-packages (from pandas) (2024.2)\n",
            "Requirement already satisfied: tzdata>=2022.7 in /usr/local/lib/python3.10/dist-packages (from pandas) (2024.2)\n",
            "Requirement already satisfied: scipy>=1.6.0 in /usr/local/lib/python3.10/dist-packages (from scikit-learn) (1.13.1)\n",
            "Requirement already satisfied: joblib>=1.2.0 in /usr/local/lib/python3.10/dist-packages (from scikit-learn) (1.4.2)\n",
            "Requirement already satisfied: threadpoolctl>=3.1.0 in /usr/local/lib/python3.10/dist-packages (from scikit-learn) (3.5.0)\n",
            "Requirement already satisfied: contourpy>=1.0.1 in /usr/local/lib/python3.10/dist-packages (from matplotlib) (1.3.0)\n",
            "Requirement already satisfied: cycler>=0.10 in /usr/local/lib/python3.10/dist-packages (from matplotlib) (0.12.1)\n",
            "Requirement already satisfied: fonttools>=4.22.0 in /usr/local/lib/python3.10/dist-packages (from matplotlib) (4.54.1)\n",
            "Requirement already satisfied: kiwisolver>=1.0.1 in /usr/local/lib/python3.10/dist-packages (from matplotlib) (1.4.7)\n",
            "Requirement already satisfied: packaging>=20.0 in /usr/local/lib/python3.10/dist-packages (from matplotlib) (24.1)\n",
            "Requirement already satisfied: pillow>=6.2.0 in /usr/local/lib/python3.10/dist-packages (from matplotlib) (10.4.0)\n",
            "Requirement already satisfied: pyparsing>=2.3.1 in /usr/local/lib/python3.10/dist-packages (from matplotlib) (3.2.0)\n",
            "Requirement already satisfied: six>=1.5 in /usr/local/lib/python3.10/dist-packages (from python-dateutil>=2.8.2->pandas) (1.16.0)\n"
          ]
        }
      ]
    },
    {
      "cell_type": "code",
      "source": [
        "from google.colab import drive\n",
        "drive.mount('/content/drive')\n"
      ],
      "metadata": {
        "id": "ogb9a4lMKtBm",
        "colab": {
          "base_uri": "https://localhost:8080/"
        },
        "outputId": "f401a404-3ef9-4d3b-95dd-29c23aca7309"
      },
      "id": "ogb9a4lMKtBm",
      "execution_count": 1,
      "outputs": [
        {
          "output_type": "stream",
          "name": "stdout",
          "text": [
            "Mounted at /content/drive\n"
          ]
        }
      ]
    },
    {
      "cell_type": "code",
      "source": [
        "\n",
        "!ls '/content/drive/My Drive/Colab Notebooks/Implementation'\n"
      ],
      "metadata": {
        "colab": {
          "base_uri": "https://localhost:8080/"
        },
        "outputId": "606730b0-4c1b-4373-9b06-e2ac920a7dbc",
        "collapsed": true,
        "id": "6XFIjlm_NCeT"
      },
      "execution_count": 2,
      "outputs": [
        {
          "output_type": "stream",
          "name": "stdout",
          "text": [
            "index.html\t KDDTest+.arff\t\t   KDDTrain+_20Percent.txt    rf_classifier_model.pkl\n",
            "KDDTest1.jpg\t KDDTest+.txt\t\t   KDDTrain+.arff\n",
            "KDDTest-21.arff  KDDTrain1.jpg\t\t   KDDTrain+.txt\n",
            "KDDTest-21.txt\t KDDTrain+_20Percent.arff  Main_Implementation.ipynb\n"
          ]
        }
      ],
      "id": "6XFIjlm_NCeT"
    },
    {
      "cell_type": "markdown",
      "source": [
        "**Step 2: Load the NSL-KDD Dataset**\n",
        "First, we need to load the dataset into our Python environment.\n",
        "\n",
        "Assumptions:\n",
        "\n",
        "We've downloaded KDDTrain+.txt and KDDTest+.txt files from the NSL-KDD dataset.\n",
        "These files are located in the same directory as your Python script or notebook."
      ],
      "metadata": {
        "id": "mKWD7Qfhjwha"
      },
      "id": "mKWD7Qfhjwha"
    },
    {
      "cell_type": "code",
      "execution_count": null,
      "id": "1be92ade-54ab-447c-8ad0-481a96847c1d",
      "metadata": {
        "id": "1be92ade-54ab-447c-8ad0-481a96847c1d"
      },
      "outputs": [],
      "source": [
        "import pandas as pd\n",
        "\n",
        "file_path1 = '/content/drive/My Drive/Colab Notebooks/Implementation/KDDTrain+.txt'\n",
        "import pandas as pd\n",
        "\n",
        "# Define the file path\n",
        "file_path2 = '/content/drive/My Drive/Colab Notebooks/Implementation/KDDTest+.txt'\n",
        "\n",
        "# Define column names based on the dataset description\n",
        "column_names = [\n",
        "    'duration', 'protocol_type', 'service', 'flag', 'src_bytes', 'dst_bytes',\n",
        "    'land', 'wrong_fragment', 'urgent', 'hot', 'num_failed_logins',\n",
        "    'logged_in', 'num_compromised', 'root_shell', 'su_attempted',\n",
        "    'num_root', 'num_file_creations', 'num_shells', 'num_access_files',\n",
        "    'num_outbound_cmds', 'is_host_login', 'is_guest_login', 'count',\n",
        "    'srv_count', 'serror_rate', 'srv_serror_rate', 'rerror_rate',\n",
        "    'srv_rerror_rate', 'same_srv_rate', 'diff_srv_rate', 'srv_diff_host_rate',\n",
        "    'dst_host_count', 'dst_host_srv_count', 'dst_host_same_srv_rate',\n",
        "    'dst_host_diff_srv_rate', 'dst_host_same_src_port_rate',\n",
        "    'dst_host_srv_diff_host_rate', 'dst_host_serror_rate',\n",
        "    'dst_host_srv_serror_rate', 'dst_host_rerror_rate',\n",
        "    'dst_host_srv_rerror_rate', 'label', 'difficulty_level'\n",
        "]\n",
        "\n",
        "\n",
        "# Load your data\n",
        "train_data = pd.read_csv(file_path1, names=column_names)\n",
        "\n",
        "# Load test data\n",
        "test_data = pd.read_csv(file_path2, names=column_names)"
      ]
    },
    {
      "cell_type": "markdown",
      "source": [
        "**Step 3: Data Preprocessing**\n",
        "\n",
        "3.1. Handle Categorical Variables\n",
        "Identify categorical features and convert them to numerical format using one-hot encoding."
      ],
      "metadata": {
        "id": "4X_NBtO7j7y5"
      },
      "id": "4X_NBtO7j7y5"
    },
    {
      "cell_type": "code",
      "execution_count": null,
      "id": "d456a370-53b0-48fa-9ad9-0e4c310e83aa",
      "metadata": {
        "id": "d456a370-53b0-48fa-9ad9-0e4c310e83aa"
      },
      "outputs": [],
      "source": [
        "# Combine train and test data for consistent encoding\n",
        "combined_data = pd.concat([train_data, test_data], ignore_index=True)\n",
        "\n",
        "# Identify categorical columns\n",
        "categorical_cols = ['protocol_type', 'service', 'flag']\n",
        "\n",
        "# Perform one-hot encoding\n",
        "combined_data_encoded = pd.get_dummies(combined_data, columns=categorical_cols)"
      ]
    },
    {
      "cell_type": "markdown",
      "source": [
        "3.2. Encode Labels\n",
        "Convert the attack labels into binary labels: normal (0) vs. attack (1)."
      ],
      "metadata": {
        "id": "h77RjiJAkBxD"
      },
      "id": "h77RjiJAkBxD"
    },
    {
      "cell_type": "code",
      "execution_count": null,
      "id": "ac7f306a-f12d-4695-b41e-650c623a237e",
      "metadata": {
        "id": "ac7f306a-f12d-4695-b41e-650c623a237e"
      },
      "outputs": [],
      "source": [
        "# Map attack types to 'normal' or 'attack'\n",
        "combined_data_encoded['binary_label'] = combined_data_encoded['label'].apply(\n",
        "    lambda x: 0 if x == 'normal' else 1\n",
        ")\n",
        "\n",
        "# Drop unnecessary columns\n",
        "combined_data_encoded.drop(['label', 'difficulty_level'], axis=1, inplace=True)"
      ]
    },
    {
      "cell_type": "markdown",
      "source": [
        "3.3. Split Data Back into Training and Testing Sets\n"
      ],
      "metadata": {
        "id": "SB7lOXmYkKrK"
      },
      "id": "SB7lOXmYkKrK"
    },
    {
      "cell_type": "code",
      "execution_count": null,
      "id": "d6f41685-54bf-42bf-8ab0-5f9bda2b2e9c",
      "metadata": {
        "id": "d6f41685-54bf-42bf-8ab0-5f9bda2b2e9c"
      },
      "outputs": [],
      "source": [
        "# Determine the length of the training data\n",
        "train_len = len(train_data)\n",
        "\n",
        "# Split the data\n",
        "train_encoded = combined_data_encoded[:train_len]\n",
        "test_encoded = combined_data_encoded[train_len:]"
      ]
    },
    {
      "cell_type": "markdown",
      "source": [
        "3.4. Separate Features and Labels\n"
      ],
      "metadata": {
        "id": "CAsuUy-3kO8t"
      },
      "id": "CAsuUy-3kO8t"
    },
    {
      "cell_type": "code",
      "execution_count": null,
      "id": "9a642362-ae3d-4f3d-9485-a59f3c869a6e",
      "metadata": {
        "id": "9a642362-ae3d-4f3d-9485-a59f3c869a6e"
      },
      "outputs": [],
      "source": [
        "# Separate features and labels\n",
        "X_train = train_encoded.drop('binary_label', axis=1)\n",
        "y_train = train_encoded['binary_label']\n",
        "\n",
        "X_test = test_encoded.drop('binary_label', axis=1)\n",
        "y_test = test_encoded['binary_label']"
      ]
    },
    {
      "cell_type": "markdown",
      "source": [
        "**Step 4: Feature Scaling Scale the numerical features using StandardScaler.**\n",
        "\n",
        "\n"
      ],
      "metadata": {
        "id": "7xT6d31WkXTR"
      },
      "id": "7xT6d31WkXTR"
    },
    {
      "cell_type": "code",
      "execution_count": null,
      "id": "34cff68c-afe4-452d-8570-c9b5636299f1",
      "metadata": {
        "id": "34cff68c-afe4-452d-8570-c9b5636299f1"
      },
      "outputs": [],
      "source": [
        "from sklearn.preprocessing import StandardScaler\n",
        "\n",
        "# Initialize the scaler\n",
        "scaler = StandardScaler()\n",
        "\n",
        "# Fit the scaler on the training data\n",
        "scaler.fit(X_train)\n",
        "\n",
        "# Transform both training and testing data\n",
        "X_train_scaled = scaler.transform(X_train)\n",
        "X_test_scaled = scaler.transform(X_test)"
      ]
    },
    {
      "cell_type": "markdown",
      "source": [
        "**Step 5: Train the Random Forest Classifier**\n",
        "\n",
        "5.1. Initialize and Train the Model"
      ],
      "metadata": {
        "id": "XyvsGrkbkpj6"
      },
      "id": "XyvsGrkbkpj6"
    },
    {
      "cell_type": "code",
      "execution_count": null,
      "id": "e869f11d-783d-4798-a0b5-413fa722e30b",
      "metadata": {
        "id": "e869f11d-783d-4798-a0b5-413fa722e30b",
        "collapsed": true,
        "colab": {
          "base_uri": "https://localhost:8080/",
          "height": 80
        },
        "outputId": "a731c74c-7161-4571-9c8c-aeea555b5824"
      },
      "outputs": [
        {
          "output_type": "execute_result",
          "data": {
            "text/plain": [
              "RandomForestClassifier(n_jobs=-1, random_state=42)"
            ],
            "text/html": [
              "<style>#sk-container-id-1 {\n",
              "  /* Definition of color scheme common for light and dark mode */\n",
              "  --sklearn-color-text: black;\n",
              "  --sklearn-color-line: gray;\n",
              "  /* Definition of color scheme for unfitted estimators */\n",
              "  --sklearn-color-unfitted-level-0: #fff5e6;\n",
              "  --sklearn-color-unfitted-level-1: #f6e4d2;\n",
              "  --sklearn-color-unfitted-level-2: #ffe0b3;\n",
              "  --sklearn-color-unfitted-level-3: chocolate;\n",
              "  /* Definition of color scheme for fitted estimators */\n",
              "  --sklearn-color-fitted-level-0: #f0f8ff;\n",
              "  --sklearn-color-fitted-level-1: #d4ebff;\n",
              "  --sklearn-color-fitted-level-2: #b3dbfd;\n",
              "  --sklearn-color-fitted-level-3: cornflowerblue;\n",
              "\n",
              "  /* Specific color for light theme */\n",
              "  --sklearn-color-text-on-default-background: var(--sg-text-color, var(--theme-code-foreground, var(--jp-content-font-color1, black)));\n",
              "  --sklearn-color-background: var(--sg-background-color, var(--theme-background, var(--jp-layout-color0, white)));\n",
              "  --sklearn-color-border-box: var(--sg-text-color, var(--theme-code-foreground, var(--jp-content-font-color1, black)));\n",
              "  --sklearn-color-icon: #696969;\n",
              "\n",
              "  @media (prefers-color-scheme: dark) {\n",
              "    /* Redefinition of color scheme for dark theme */\n",
              "    --sklearn-color-text-on-default-background: var(--sg-text-color, var(--theme-code-foreground, var(--jp-content-font-color1, white)));\n",
              "    --sklearn-color-background: var(--sg-background-color, var(--theme-background, var(--jp-layout-color0, #111)));\n",
              "    --sklearn-color-border-box: var(--sg-text-color, var(--theme-code-foreground, var(--jp-content-font-color1, white)));\n",
              "    --sklearn-color-icon: #878787;\n",
              "  }\n",
              "}\n",
              "\n",
              "#sk-container-id-1 {\n",
              "  color: var(--sklearn-color-text);\n",
              "}\n",
              "\n",
              "#sk-container-id-1 pre {\n",
              "  padding: 0;\n",
              "}\n",
              "\n",
              "#sk-container-id-1 input.sk-hidden--visually {\n",
              "  border: 0;\n",
              "  clip: rect(1px 1px 1px 1px);\n",
              "  clip: rect(1px, 1px, 1px, 1px);\n",
              "  height: 1px;\n",
              "  margin: -1px;\n",
              "  overflow: hidden;\n",
              "  padding: 0;\n",
              "  position: absolute;\n",
              "  width: 1px;\n",
              "}\n",
              "\n",
              "#sk-container-id-1 div.sk-dashed-wrapped {\n",
              "  border: 1px dashed var(--sklearn-color-line);\n",
              "  margin: 0 0.4em 0.5em 0.4em;\n",
              "  box-sizing: border-box;\n",
              "  padding-bottom: 0.4em;\n",
              "  background-color: var(--sklearn-color-background);\n",
              "}\n",
              "\n",
              "#sk-container-id-1 div.sk-container {\n",
              "  /* jupyter's `normalize.less` sets `[hidden] { display: none; }`\n",
              "     but bootstrap.min.css set `[hidden] { display: none !important; }`\n",
              "     so we also need the `!important` here to be able to override the\n",
              "     default hidden behavior on the sphinx rendered scikit-learn.org.\n",
              "     See: https://github.com/scikit-learn/scikit-learn/issues/21755 */\n",
              "  display: inline-block !important;\n",
              "  position: relative;\n",
              "}\n",
              "\n",
              "#sk-container-id-1 div.sk-text-repr-fallback {\n",
              "  display: none;\n",
              "}\n",
              "\n",
              "div.sk-parallel-item,\n",
              "div.sk-serial,\n",
              "div.sk-item {\n",
              "  /* draw centered vertical line to link estimators */\n",
              "  background-image: linear-gradient(var(--sklearn-color-text-on-default-background), var(--sklearn-color-text-on-default-background));\n",
              "  background-size: 2px 100%;\n",
              "  background-repeat: no-repeat;\n",
              "  background-position: center center;\n",
              "}\n",
              "\n",
              "/* Parallel-specific style estimator block */\n",
              "\n",
              "#sk-container-id-1 div.sk-parallel-item::after {\n",
              "  content: \"\";\n",
              "  width: 100%;\n",
              "  border-bottom: 2px solid var(--sklearn-color-text-on-default-background);\n",
              "  flex-grow: 1;\n",
              "}\n",
              "\n",
              "#sk-container-id-1 div.sk-parallel {\n",
              "  display: flex;\n",
              "  align-items: stretch;\n",
              "  justify-content: center;\n",
              "  background-color: var(--sklearn-color-background);\n",
              "  position: relative;\n",
              "}\n",
              "\n",
              "#sk-container-id-1 div.sk-parallel-item {\n",
              "  display: flex;\n",
              "  flex-direction: column;\n",
              "}\n",
              "\n",
              "#sk-container-id-1 div.sk-parallel-item:first-child::after {\n",
              "  align-self: flex-end;\n",
              "  width: 50%;\n",
              "}\n",
              "\n",
              "#sk-container-id-1 div.sk-parallel-item:last-child::after {\n",
              "  align-self: flex-start;\n",
              "  width: 50%;\n",
              "}\n",
              "\n",
              "#sk-container-id-1 div.sk-parallel-item:only-child::after {\n",
              "  width: 0;\n",
              "}\n",
              "\n",
              "/* Serial-specific style estimator block */\n",
              "\n",
              "#sk-container-id-1 div.sk-serial {\n",
              "  display: flex;\n",
              "  flex-direction: column;\n",
              "  align-items: center;\n",
              "  background-color: var(--sklearn-color-background);\n",
              "  padding-right: 1em;\n",
              "  padding-left: 1em;\n",
              "}\n",
              "\n",
              "\n",
              "/* Toggleable style: style used for estimator/Pipeline/ColumnTransformer box that is\n",
              "clickable and can be expanded/collapsed.\n",
              "- Pipeline and ColumnTransformer use this feature and define the default style\n",
              "- Estimators will overwrite some part of the style using the `sk-estimator` class\n",
              "*/\n",
              "\n",
              "/* Pipeline and ColumnTransformer style (default) */\n",
              "\n",
              "#sk-container-id-1 div.sk-toggleable {\n",
              "  /* Default theme specific background. It is overwritten whether we have a\n",
              "  specific estimator or a Pipeline/ColumnTransformer */\n",
              "  background-color: var(--sklearn-color-background);\n",
              "}\n",
              "\n",
              "/* Toggleable label */\n",
              "#sk-container-id-1 label.sk-toggleable__label {\n",
              "  cursor: pointer;\n",
              "  display: block;\n",
              "  width: 100%;\n",
              "  margin-bottom: 0;\n",
              "  padding: 0.5em;\n",
              "  box-sizing: border-box;\n",
              "  text-align: center;\n",
              "}\n",
              "\n",
              "#sk-container-id-1 label.sk-toggleable__label-arrow:before {\n",
              "  /* Arrow on the left of the label */\n",
              "  content: \"▸\";\n",
              "  float: left;\n",
              "  margin-right: 0.25em;\n",
              "  color: var(--sklearn-color-icon);\n",
              "}\n",
              "\n",
              "#sk-container-id-1 label.sk-toggleable__label-arrow:hover:before {\n",
              "  color: var(--sklearn-color-text);\n",
              "}\n",
              "\n",
              "/* Toggleable content - dropdown */\n",
              "\n",
              "#sk-container-id-1 div.sk-toggleable__content {\n",
              "  max-height: 0;\n",
              "  max-width: 0;\n",
              "  overflow: hidden;\n",
              "  text-align: left;\n",
              "  /* unfitted */\n",
              "  background-color: var(--sklearn-color-unfitted-level-0);\n",
              "}\n",
              "\n",
              "#sk-container-id-1 div.sk-toggleable__content.fitted {\n",
              "  /* fitted */\n",
              "  background-color: var(--sklearn-color-fitted-level-0);\n",
              "}\n",
              "\n",
              "#sk-container-id-1 div.sk-toggleable__content pre {\n",
              "  margin: 0.2em;\n",
              "  border-radius: 0.25em;\n",
              "  color: var(--sklearn-color-text);\n",
              "  /* unfitted */\n",
              "  background-color: var(--sklearn-color-unfitted-level-0);\n",
              "}\n",
              "\n",
              "#sk-container-id-1 div.sk-toggleable__content.fitted pre {\n",
              "  /* unfitted */\n",
              "  background-color: var(--sklearn-color-fitted-level-0);\n",
              "}\n",
              "\n",
              "#sk-container-id-1 input.sk-toggleable__control:checked~div.sk-toggleable__content {\n",
              "  /* Expand drop-down */\n",
              "  max-height: 200px;\n",
              "  max-width: 100%;\n",
              "  overflow: auto;\n",
              "}\n",
              "\n",
              "#sk-container-id-1 input.sk-toggleable__control:checked~label.sk-toggleable__label-arrow:before {\n",
              "  content: \"▾\";\n",
              "}\n",
              "\n",
              "/* Pipeline/ColumnTransformer-specific style */\n",
              "\n",
              "#sk-container-id-1 div.sk-label input.sk-toggleable__control:checked~label.sk-toggleable__label {\n",
              "  color: var(--sklearn-color-text);\n",
              "  background-color: var(--sklearn-color-unfitted-level-2);\n",
              "}\n",
              "\n",
              "#sk-container-id-1 div.sk-label.fitted input.sk-toggleable__control:checked~label.sk-toggleable__label {\n",
              "  background-color: var(--sklearn-color-fitted-level-2);\n",
              "}\n",
              "\n",
              "/* Estimator-specific style */\n",
              "\n",
              "/* Colorize estimator box */\n",
              "#sk-container-id-1 div.sk-estimator input.sk-toggleable__control:checked~label.sk-toggleable__label {\n",
              "  /* unfitted */\n",
              "  background-color: var(--sklearn-color-unfitted-level-2);\n",
              "}\n",
              "\n",
              "#sk-container-id-1 div.sk-estimator.fitted input.sk-toggleable__control:checked~label.sk-toggleable__label {\n",
              "  /* fitted */\n",
              "  background-color: var(--sklearn-color-fitted-level-2);\n",
              "}\n",
              "\n",
              "#sk-container-id-1 div.sk-label label.sk-toggleable__label,\n",
              "#sk-container-id-1 div.sk-label label {\n",
              "  /* The background is the default theme color */\n",
              "  color: var(--sklearn-color-text-on-default-background);\n",
              "}\n",
              "\n",
              "/* On hover, darken the color of the background */\n",
              "#sk-container-id-1 div.sk-label:hover label.sk-toggleable__label {\n",
              "  color: var(--sklearn-color-text);\n",
              "  background-color: var(--sklearn-color-unfitted-level-2);\n",
              "}\n",
              "\n",
              "/* Label box, darken color on hover, fitted */\n",
              "#sk-container-id-1 div.sk-label.fitted:hover label.sk-toggleable__label.fitted {\n",
              "  color: var(--sklearn-color-text);\n",
              "  background-color: var(--sklearn-color-fitted-level-2);\n",
              "}\n",
              "\n",
              "/* Estimator label */\n",
              "\n",
              "#sk-container-id-1 div.sk-label label {\n",
              "  font-family: monospace;\n",
              "  font-weight: bold;\n",
              "  display: inline-block;\n",
              "  line-height: 1.2em;\n",
              "}\n",
              "\n",
              "#sk-container-id-1 div.sk-label-container {\n",
              "  text-align: center;\n",
              "}\n",
              "\n",
              "/* Estimator-specific */\n",
              "#sk-container-id-1 div.sk-estimator {\n",
              "  font-family: monospace;\n",
              "  border: 1px dotted var(--sklearn-color-border-box);\n",
              "  border-radius: 0.25em;\n",
              "  box-sizing: border-box;\n",
              "  margin-bottom: 0.5em;\n",
              "  /* unfitted */\n",
              "  background-color: var(--sklearn-color-unfitted-level-0);\n",
              "}\n",
              "\n",
              "#sk-container-id-1 div.sk-estimator.fitted {\n",
              "  /* fitted */\n",
              "  background-color: var(--sklearn-color-fitted-level-0);\n",
              "}\n",
              "\n",
              "/* on hover */\n",
              "#sk-container-id-1 div.sk-estimator:hover {\n",
              "  /* unfitted */\n",
              "  background-color: var(--sklearn-color-unfitted-level-2);\n",
              "}\n",
              "\n",
              "#sk-container-id-1 div.sk-estimator.fitted:hover {\n",
              "  /* fitted */\n",
              "  background-color: var(--sklearn-color-fitted-level-2);\n",
              "}\n",
              "\n",
              "/* Specification for estimator info (e.g. \"i\" and \"?\") */\n",
              "\n",
              "/* Common style for \"i\" and \"?\" */\n",
              "\n",
              ".sk-estimator-doc-link,\n",
              "a:link.sk-estimator-doc-link,\n",
              "a:visited.sk-estimator-doc-link {\n",
              "  float: right;\n",
              "  font-size: smaller;\n",
              "  line-height: 1em;\n",
              "  font-family: monospace;\n",
              "  background-color: var(--sklearn-color-background);\n",
              "  border-radius: 1em;\n",
              "  height: 1em;\n",
              "  width: 1em;\n",
              "  text-decoration: none !important;\n",
              "  margin-left: 1ex;\n",
              "  /* unfitted */\n",
              "  border: var(--sklearn-color-unfitted-level-1) 1pt solid;\n",
              "  color: var(--sklearn-color-unfitted-level-1);\n",
              "}\n",
              "\n",
              ".sk-estimator-doc-link.fitted,\n",
              "a:link.sk-estimator-doc-link.fitted,\n",
              "a:visited.sk-estimator-doc-link.fitted {\n",
              "  /* fitted */\n",
              "  border: var(--sklearn-color-fitted-level-1) 1pt solid;\n",
              "  color: var(--sklearn-color-fitted-level-1);\n",
              "}\n",
              "\n",
              "/* On hover */\n",
              "div.sk-estimator:hover .sk-estimator-doc-link:hover,\n",
              ".sk-estimator-doc-link:hover,\n",
              "div.sk-label-container:hover .sk-estimator-doc-link:hover,\n",
              ".sk-estimator-doc-link:hover {\n",
              "  /* unfitted */\n",
              "  background-color: var(--sklearn-color-unfitted-level-3);\n",
              "  color: var(--sklearn-color-background);\n",
              "  text-decoration: none;\n",
              "}\n",
              "\n",
              "div.sk-estimator.fitted:hover .sk-estimator-doc-link.fitted:hover,\n",
              ".sk-estimator-doc-link.fitted:hover,\n",
              "div.sk-label-container:hover .sk-estimator-doc-link.fitted:hover,\n",
              ".sk-estimator-doc-link.fitted:hover {\n",
              "  /* fitted */\n",
              "  background-color: var(--sklearn-color-fitted-level-3);\n",
              "  color: var(--sklearn-color-background);\n",
              "  text-decoration: none;\n",
              "}\n",
              "\n",
              "/* Span, style for the box shown on hovering the info icon */\n",
              ".sk-estimator-doc-link span {\n",
              "  display: none;\n",
              "  z-index: 9999;\n",
              "  position: relative;\n",
              "  font-weight: normal;\n",
              "  right: .2ex;\n",
              "  padding: .5ex;\n",
              "  margin: .5ex;\n",
              "  width: min-content;\n",
              "  min-width: 20ex;\n",
              "  max-width: 50ex;\n",
              "  color: var(--sklearn-color-text);\n",
              "  box-shadow: 2pt 2pt 4pt #999;\n",
              "  /* unfitted */\n",
              "  background: var(--sklearn-color-unfitted-level-0);\n",
              "  border: .5pt solid var(--sklearn-color-unfitted-level-3);\n",
              "}\n",
              "\n",
              ".sk-estimator-doc-link.fitted span {\n",
              "  /* fitted */\n",
              "  background: var(--sklearn-color-fitted-level-0);\n",
              "  border: var(--sklearn-color-fitted-level-3);\n",
              "}\n",
              "\n",
              ".sk-estimator-doc-link:hover span {\n",
              "  display: block;\n",
              "}\n",
              "\n",
              "/* \"?\"-specific style due to the `<a>` HTML tag */\n",
              "\n",
              "#sk-container-id-1 a.estimator_doc_link {\n",
              "  float: right;\n",
              "  font-size: 1rem;\n",
              "  line-height: 1em;\n",
              "  font-family: monospace;\n",
              "  background-color: var(--sklearn-color-background);\n",
              "  border-radius: 1rem;\n",
              "  height: 1rem;\n",
              "  width: 1rem;\n",
              "  text-decoration: none;\n",
              "  /* unfitted */\n",
              "  color: var(--sklearn-color-unfitted-level-1);\n",
              "  border: var(--sklearn-color-unfitted-level-1) 1pt solid;\n",
              "}\n",
              "\n",
              "#sk-container-id-1 a.estimator_doc_link.fitted {\n",
              "  /* fitted */\n",
              "  border: var(--sklearn-color-fitted-level-1) 1pt solid;\n",
              "  color: var(--sklearn-color-fitted-level-1);\n",
              "}\n",
              "\n",
              "/* On hover */\n",
              "#sk-container-id-1 a.estimator_doc_link:hover {\n",
              "  /* unfitted */\n",
              "  background-color: var(--sklearn-color-unfitted-level-3);\n",
              "  color: var(--sklearn-color-background);\n",
              "  text-decoration: none;\n",
              "}\n",
              "\n",
              "#sk-container-id-1 a.estimator_doc_link.fitted:hover {\n",
              "  /* fitted */\n",
              "  background-color: var(--sklearn-color-fitted-level-3);\n",
              "}\n",
              "</style><div id=\"sk-container-id-1\" class=\"sk-top-container\"><div class=\"sk-text-repr-fallback\"><pre>RandomForestClassifier(n_jobs=-1, random_state=42)</pre><b>In a Jupyter environment, please rerun this cell to show the HTML representation or trust the notebook. <br />On GitHub, the HTML representation is unable to render, please try loading this page with nbviewer.org.</b></div><div class=\"sk-container\" hidden><div class=\"sk-item\"><div class=\"sk-estimator fitted sk-toggleable\"><input class=\"sk-toggleable__control sk-hidden--visually\" id=\"sk-estimator-id-1\" type=\"checkbox\" checked><label for=\"sk-estimator-id-1\" class=\"sk-toggleable__label fitted sk-toggleable__label-arrow fitted\">&nbsp;&nbsp;RandomForestClassifier<a class=\"sk-estimator-doc-link fitted\" rel=\"noreferrer\" target=\"_blank\" href=\"https://scikit-learn.org/1.5/modules/generated/sklearn.ensemble.RandomForestClassifier.html\">?<span>Documentation for RandomForestClassifier</span></a><span class=\"sk-estimator-doc-link fitted\">i<span>Fitted</span></span></label><div class=\"sk-toggleable__content fitted\"><pre>RandomForestClassifier(n_jobs=-1, random_state=42)</pre></div> </div></div></div></div>"
            ]
          },
          "metadata": {},
          "execution_count": 10
        }
      ],
      "source": [
        "from sklearn.ensemble import RandomForestClassifier\n",
        "\n",
        "# Initialize the classifier\n",
        "rf_classifier = RandomForestClassifier(n_estimators=100, random_state=42, n_jobs=-1)\n",
        "\n",
        "# Train the classifier\n",
        "rf_classifier.fit(X_train_scaled, y_train)"
      ]
    },
    {
      "cell_type": "markdown",
      "source": [
        "5.2. Evaluate the Model\n"
      ],
      "metadata": {
        "id": "PF4NM1dPlVDz"
      },
      "id": "PF4NM1dPlVDz"
    },
    {
      "cell_type": "code",
      "execution_count": null,
      "id": "02446e23-d15d-47c1-9a4b-03ba063326b0",
      "metadata": {
        "id": "02446e23-d15d-47c1-9a4b-03ba063326b0",
        "collapsed": true,
        "colab": {
          "base_uri": "https://localhost:8080/"
        },
        "outputId": "9afe6d0f-efba-4d07-a15f-62120bdf7e5b"
      },
      "outputs": [
        {
          "output_type": "stream",
          "name": "stdout",
          "text": [
            "Evaluation Metrics:\n",
            "Accuracy: 76.86%\n",
            "Precision: 96.83%\n",
            "Recall: 61.37%\n",
            "F1 Score: 75.12%\n"
          ]
        }
      ],
      "source": [
        "from sklearn.metrics import accuracy_score, precision_score, recall_score, f1_score, confusion_matrix\n",
        "\n",
        "# Predict on the test set\n",
        "y_pred = rf_classifier.predict(X_test_scaled)\n",
        "\n",
        "# Calculate evaluation metrics\n",
        "accuracy = accuracy_score(y_test, y_pred)\n",
        "precision = precision_score(y_test, y_pred)\n",
        "recall = recall_score(y_test, y_pred)\n",
        "f1 = f1_score(y_test, y_pred)\n",
        "\n",
        "print(\"Evaluation Metrics:\")\n",
        "print(f\"Accuracy: {accuracy*100:.2f}%\")\n",
        "print(f\"Precision: {precision*100:.2f}%\")\n",
        "print(f\"Recall: {recall*100:.2f}%\")\n",
        "print(f\"F1 Score: {f1*100:.2f}%\")"
      ]
    },
    {
      "cell_type": "markdown",
      "source": [
        "5.3. Plot the Confusion Matrix\n"
      ],
      "metadata": {
        "id": "6Wg7dfjNlaxb"
      },
      "id": "6Wg7dfjNlaxb"
    },
    {
      "cell_type": "code",
      "execution_count": null,
      "id": "a2f5294e-717d-4940-8cff-3692cf978cb9",
      "metadata": {
        "id": "a2f5294e-717d-4940-8cff-3692cf978cb9",
        "collapsed": true,
        "colab": {
          "base_uri": "https://localhost:8080/",
          "height": 410
        },
        "outputId": "9b6c16aa-4660-4266-89cb-42ec030e2aae"
      },
      "outputs": [
        {
          "output_type": "display_data",
          "data": {
            "text/plain": [
              "<Figure size 600x400 with 2 Axes>"
            ],
            "image/png": "[encoded data removed]"
          },
          "metadata": {}
        }
      ],
      "source": [
        "import matplotlib.pyplot as plt\n",
        "import seaborn as sns\n",
        "\n",
        "# Compute confusion matrix\n",
        "conf_matrix = confusion_matrix(y_test, y_pred)\n",
        "\n",
        "# Plot the confusion matrix\n",
        "plt.figure(figsize=(6,4))\n",
        "sns.heatmap(conf_matrix, annot=True, fmt='d', cmap='Blues',\n",
        "            xticklabels=['Normal', 'Attack'], yticklabels=['Normal', 'Attack'])\n",
        "plt.ylabel('Actual')\n",
        "plt.xlabel('Predicted')\n",
        "plt.title('Confusion Matrix')\n",
        "plt.show()"
      ]
    },
    {
      "cell_type": "markdown",
      "source": [
        "**Step 6: Feature Importance Analysis**\n",
        "\n",
        "Identify the most important features according to the Random Forest model."
      ],
      "metadata": {
        "id": "IIv2igRMlmyj"
      },
      "id": "IIv2igRMlmyj"
    },
    {
      "cell_type": "code",
      "execution_count": null,
      "id": "fc3b4502-d582-4d33-8556-824d3a706d94",
      "metadata": {
        "id": "fc3b4502-d582-4d33-8556-824d3a706d94",
        "collapsed": true,
        "colab": {
          "base_uri": "https://localhost:8080/",
          "height": 697
        },
        "outputId": "74ce0593-e9d6-431a-df78-0e6b937fed4f"
      },
      "outputs": [
        {
          "output_type": "display_data",
          "data": {
            "text/plain": [
              "<Figure size 1000x600 with 1 Axes>"
            ],
            "image/png": "[encoded data removed]"
          },
          "metadata": {}
        }
      ],
      "source": [
        "# Get feature importances\n",
        "importances = rf_classifier.feature_importances_\n",
        "\n",
        "# Map feature importances to feature names\n",
        "feature_importance = pd.Series(importances, index=X_train.columns)\n",
        "\n",
        "# Sort the features by importance\n",
        "feature_importance_sorted = feature_importance.sort_values(ascending=False)\n",
        "\n",
        "# Plot the top 10 most important features\n",
        "plt.figure(figsize=(10,6))\n",
        "feature_importance_sorted[:10].plot(kind='bar')\n",
        "plt.title('Top 10 Feature Importances')\n",
        "plt.ylabel('Importance')\n",
        "plt.show()"
      ]
    },
    {
      "cell_type": "markdown",
      "source": [
        "**Step 7: Save the Trained Model**\n",
        "\n",
        "Use joblib to save and load the trained model."
      ],
      "metadata": {
        "id": "rVpMLfMHlyZC"
      },
      "id": "rVpMLfMHlyZC"
    },
    {
      "cell_type": "code",
      "execution_count": null,
      "id": "d985785c-da5d-42be-91ba-51df8a0e5f55",
      "metadata": {
        "id": "d985785c-da5d-42be-91ba-51df8a0e5f55",
        "collapsed": true,
        "colab": {
          "base_uri": "https://localhost:8080/"
        },
        "outputId": "2571aec3-156e-4583-8ac4-d3953476d588"
      },
      "outputs": [
        {
          "output_type": "stream",
          "name": "stdout",
          "text": [
            "Drive already mounted at /content/drive; to attempt to forcibly remount, call drive.mount(\"/content/drive\", force_remount=True).\n"
          ]
        },
        {
          "output_type": "execute_result",
          "data": {
            "text/plain": [
              "['/content/drive/My Drive/Colab Notebooks/Implementation/rf_classifier_model.pkl']"
            ]
          },
          "metadata": {},
          "execution_count": 14
        }
      ],
      "source": [
        "import joblib\n",
        "from google.colab import drive # Removed the extra space at the beginning of this line\n",
        "\n",
        "# Mount Google Drive\n",
        "drive.mount('/content/drive')\n",
        "\n",
        "# Save the model\n",
        "joblib.dump(rf_classifier, '/content/drive/My Drive/Colab Notebooks/Implementation/rf_classifier_model.pkl')"
      ]
    },
    {
      "cell_type": "markdown",
      "source": [
        "**Step 8: Simulate Real-Time Data Processing**\n",
        "\n",
        "Simulate how the model would process data in a fog computing environment.\n",
        "\n",
        "8.1. Simulate Streaming Data\n",
        "\n",
        "We'll process the test data in small batches to mimic real-time data streaming."
      ],
      "metadata": {
        "id": "gLqpWYCcl4Yv"
      },
      "id": "gLqpWYCcl4Yv"
    },
    {
      "cell_type": "code",
      "execution_count": null,
      "id": "0644f9f1-31a8-464e-825b-1188569eeb4b",
      "metadata": {
        "id": "0644f9f1-31a8-464e-825b-1188569eeb4b",
        "collapsed": true,
        "colab": {
          "base_uri": "https://localhost:8080/"
        },
        "outputId": "9aabcb3b-e411-492e-9e11-42944d4bb6ef"
      },
      "outputs": [
        {
          "output_type": "stream",
          "name": "stdout",
          "text": [
            "Batch 1/23 - Accuracy: 80.00%\n",
            "Batch 2/23 - Accuracy: 78.30%\n",
            "Batch 3/23 - Accuracy: 77.20%\n",
            "Batch 4/23 - Accuracy: 74.70%\n",
            "Batch 5/23 - Accuracy: 76.00%\n",
            "Batch 6/23 - Accuracy: 76.80%\n",
            "Batch 7/23 - Accuracy: 76.10%\n",
            "Batch 8/23 - Accuracy: 78.90%\n",
            "Batch 9/23 - Accuracy: 74.60%\n",
            "Batch 10/23 - Accuracy: 76.60%\n",
            "Batch 11/23 - Accuracy: 78.30%\n",
            "Batch 12/23 - Accuracy: 78.00%\n",
            "Batch 13/23 - Accuracy: 76.70%\n",
            "Batch 14/23 - Accuracy: 76.10%\n",
            "Batch 15/23 - Accuracy: 77.00%\n",
            "Batch 16/23 - Accuracy: 76.40%\n",
            "Batch 17/23 - Accuracy: 77.30%\n",
            "Batch 18/23 - Accuracy: 77.60%\n",
            "Batch 19/23 - Accuracy: 75.60%\n",
            "Batch 20/23 - Accuracy: 76.90%\n",
            "Batch 21/23 - Accuracy: 79.40%\n",
            "Batch 22/23 - Accuracy: 73.70%\n",
            "Batch 23/23 - Accuracy: 74.63%\n"
          ]
        }
      ],
      "source": [
        "import numpy as np\n",
        "\n",
        "# Define batch size\n",
        "batch_size = 1000\n",
        "\n",
        "# Calculate the number of batches\n",
        "n_batches = int(np.ceil(len(X_test_scaled) / batch_size))\n",
        "\n",
        "for i in range(n_batches):\n",
        "    start_idx = i * batch_size\n",
        "    end_idx = min((i+1) * batch_size, len(X_test_scaled))\n",
        "    X_batch = X_test_scaled[start_idx:end_idx]\n",
        "    y_batch = y_test.iloc[start_idx:end_idx]\n",
        "\n",
        "    # Predict using the trained model\n",
        "    y_batch_pred = rf_classifier.predict(X_batch)\n",
        "\n",
        "    # You can compute metrics for each batch if desired\n",
        "    batch_accuracy = accuracy_score(y_batch, y_batch_pred)\n",
        "    print(f\"Batch {i+1}/{n_batches} - Accuracy: {batch_accuracy*100:.2f}%\")"
      ]
    },
    {
      "cell_type": "markdown",
      "source": [
        "**Step 9: Simulate Device Authentication with Blockchain**\n",
        "\n",
        "Given the constraints of running everything on a single laptop, we'll simulate the blockchain authentication process using simple data structures.\n",
        "\n",
        "9.1. Simulate a Simple Blockchain Ledger"
      ],
      "metadata": {
        "id": "DbKF8c1vmGTg"
      },
      "id": "DbKF8c1vmGTg"
    },
    {
      "cell_type": "code",
      "execution_count": null,
      "id": "8367a8ae-2192-4a5e-8a3c-3c3577a83c2b",
      "metadata": {
        "id": "8367a8ae-2192-4a5e-8a3c-3c3577a83c2b"
      },
      "outputs": [],
      "source": [
        "# Simulate a blockchain ledger as a dictionary\n",
        "blockchain_ledger = {\n",
        "    'device_001': 'authorized',\n",
        "    'device_002': 'authorized',\n",
        "    'device_003': 'revoked',\n",
        "    'device_004': 'authorized',\n",
        "    'device_005': 'authorized',\n",
        "    'device_006': 'revoked',\n",
        "    'device_007': 'authorized',\n",
        "    'device_008': 'authorized',\n",
        "    'device_009': 'authorized',\n",
        "    'device_010': 'authorized'\n",
        "}\n",
        "\n",
        "# Function to authenticate a device using the simulated blockchain\n",
        "def authenticate_device(device_id):\n",
        "    status = blockchain_ledger.get(device_id, 'unauthorized')\n",
        "    return status == 'authorized'"
      ]
    },
    {
      "cell_type": "markdown",
      "source": [
        "9.2. Combine Authentication with Anomaly Detection\n"
      ],
      "metadata": {
        "id": "cf395dnJmRPs"
      },
      "id": "cf395dnJmRPs"
    },
    {
      "cell_type": "code",
      "execution_count": null,
      "id": "3e0ce562-19db-44d0-a74e-a4ea99150cbd",
      "metadata": {
        "id": "3e0ce562-19db-44d0-a74e-a4ea99150cbd",
        "collapsed": true
      },
      "outputs": [],
      "source": [
        "# Simulate device IDs for each data point\n",
        "# For simplicity, we'll assign a random device ID from the ledger\n",
        "import random\n",
        "\n",
        "device_ids = ['device_001', 'device_002', 'device_003', 'device_004', 'device_005', 'device_006', 'device_007', 'device_008', 'device_009', 'device_010']\n",
        "\n",
        "# Process a subset of the test data\n",
        "for idx in range(100):  # Adjust the range as needed\n",
        "    device_id = random.choice(device_ids)\n",
        "    data_point = X_test_scaled[idx].reshape(1, -1)\n",
        "    true_label = y_test.iloc[idx]\n",
        "\n",
        "    # Authenticate the device\n",
        "    if not authenticate_device(device_id):\n",
        "        print(f\"Device {device_id} is not authorized. Access denied.\")\n",
        "        continue\n",
        "\n",
        "    # Perform anomaly detection\n",
        "    prediction = rf_classifier.predict(data_point)\n",
        "\n",
        "    # Take action based on the prediction\n",
        "    if prediction[0] == 1:\n",
        "        print(f\"Anomaly detected from device {device_id}.\")\n",
        "        # Actions: log the event, alert the system, etc.\n",
        "    else:\n",
        "        print(f\"Normal data received from device {device_id}.\")"
      ]
    },
    {
      "cell_type": "markdown",
      "source": [
        "**Step 10: Integrate All Components in a Simulated Environment**\n",
        "\n",
        "Create a function or script that simulates the fog node operations, integrating device authentication and anomaly detection."
      ],
      "metadata": {
        "id": "Xbmd1TLumXAM"
      },
      "id": "Xbmd1TLumXAM"
    },
    {
      "cell_type": "code",
      "execution_count": null,
      "id": "a481835a-be14-4965-87fa-b55a290bf5c8",
      "metadata": {
        "id": "a481835a-be14-4965-87fa-b55a290bf5c8"
      },
      "outputs": [],
      "source": [
        "def fog_node_operation(device_id, data_point):\n",
        "    # Authenticate the device\n",
        "    if not authenticate_device(device_id):\n",
        "        print(f\"Device {device_id} is not authorized. Access denied.\")\n",
        "        return\n",
        "\n",
        "    # Anomaly detection\n",
        "    prediction = rf_classifier.predict(data_point)\n",
        "\n",
        "    # Action based on prediction\n",
        "    if prediction[0] == 1:\n",
        "        print(f\"Anomaly detected from device {device_id}. Taking appropriate action.\")\n",
        "        # Actions could include blocking the device, alerting administrators, etc.\n",
        "    else:\n",
        "        print(f\"Data from device {device_id} is normal.\")\n",
        "\n",
        "# Simulate data reception at the fog node\n",
        "for idx in range(1000):  # Adjust the range as needed\n",
        "    device_id = random.choice(device_ids)\n",
        "    data_point = X_test_scaled[idx].reshape(1, -1)\n",
        "    fog_node_operation(device_id, data_point)"
      ]
    },
    {
      "cell_type": "markdown",
      "source": [
        "**Step 11: Collect and Present Results**\n",
        "\n",
        "11.1. Record Metrics\n",
        "\n",
        "During the simulation, collect metrics such as:\n",
        "\n",
        "Number of devices authenticated vs. denied.\n",
        "Number of anomalies detected.\n",
        "Processing time per data point or batch.\n",
        "\n",
        "11.2. Analyze Resource Utilization\n",
        "\n",
        "Since we're running on a single laptop, monitor:\n",
        "\n",
        "CPU and memory usage.\n",
        "Time taken for model inference.\n",
        "We can use Python's time module to measure execution time."
      ],
      "metadata": {
        "id": "xsn7LcMHmhgu"
      },
      "id": "xsn7LcMHmhgu"
    },
    {
      "cell_type": "code",
      "execution_count": null,
      "id": "e71fe11a-29bf-4a37-815a-a2e78f74a5a7",
      "metadata": {
        "id": "e71fe11a-29bf-4a37-815a-a2e78f74a5a7",
        "outputId": "65e6da52-d14f-4269-a309-00c14ed5ccf9",
        "colab": {
          "base_uri": "https://localhost:8080/"
        }
      },
      "outputs": [
        {
          "output_type": "stream",
          "name": "stdout",
          "text": [
            "Processing time: 5.054473876953125e-05 seconds\n"
          ]
        }
      ],
      "source": [
        "import time\n",
        "\n",
        "start_time = time.time()\n",
        "# ... your code ...\n",
        "end_time = time.time()\n",
        "print(f\"Processing time: {end_time - start_time} seconds\")"
      ]
    },
    {
      "cell_type": "code",
      "execution_count": null,
      "id": "5477a086-4753-4b39-8d82-0c2fcf041898",
      "metadata": {
        "id": "5477a086-4753-4b39-8d82-0c2fcf041898"
      },
      "outputs": [],
      "source": []
    }
  ],
  "metadata": {
    "kernelspec": {
      "display_name": "Python 3 (ipykernel)",
      "language": "python",
      "name": "python3"
    },
    "language_info": {
      "codemirror_mode": {
        "name": "ipython",
        "version": 3
      },
      "file_extension": ".py",
      "mimetype": "text/x-python",
      "name": "python",
      "nbconvert_exporter": "python",
      "pygments_lexer": "ipython3",
      "version": "3.12.4"
    },
    "colab": {
      "provenance": [],
      "include_colab_link": true
    }
  },
  "nbformat": 4,
  "nbformat_minor": 5
}